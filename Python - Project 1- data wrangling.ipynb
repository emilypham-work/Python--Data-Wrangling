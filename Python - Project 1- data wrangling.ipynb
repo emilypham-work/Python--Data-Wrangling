{
 "cells": [
  {
   "cell_type": "code",
   "execution_count": 11,
   "id": "034a57e2",
   "metadata": {},
   "outputs": [],
   "source": [
    "#import libraries and files\n",
    "import pandas as pd\n",
    "import numpy as np\n",
    "\n",
    "sales = pd.read_csv(r'C:\\Users\\Emily\\Downloads\\Telegram Desktop\\Data Wrangling Practise\\sales.csv')\n",
    "prices = pd.read_csv(r'C:\\Users\\Emily\\Downloads\\Telegram Desktop\\Data Wrangling Practise\\prices.csv')\n"
   ]
  },
  {
   "cell_type": "code",
   "execution_count": 12,
   "id": "95523857",
   "metadata": {},
   "outputs": [],
   "source": [
    "#change data type to date time\n",
    "sales['ordered_at'] = pd.to_datetime(sales['ordered_at'])\n",
    "prices['updated_at'] = pd.to_datetime(prices['updated_at'])\n"
   ]
  },
  {
   "cell_type": "code",
   "execution_count": 13,
   "id": "381c03d6",
   "metadata": {},
   "outputs": [],
   "source": [
    "# sort data frame by date time - ascending\n",
    "sales= sales.sort_values(by='ordered_at')\n",
    "prices= prices.sort_values(by='updated_at')"
   ]
  },
  {
   "cell_type": "code",
   "execution_count": 14,
   "id": "0dafea54",
   "metadata": {},
   "outputs": [
    {
     "name": "stdout",
     "output_type": "stream",
     "text": [
      "     product_id          ordered_at  quantity_ordered  old_price  new_price  \\\n",
      "0       3954203 2018-09-11 01:43:00                 1      68800      60000   \n",
      "1       4085861 2018-09-11 06:26:00                 1      60000      53500   \n",
      "2       4085861 2018-09-11 06:53:00                 1      60000      53500   \n",
      "3       4085861 2018-09-11 08:24:00                 1      60000      53500   \n",
      "4       4085861 2018-09-11 09:30:00                 1      60000      53500   \n",
      "..          ...                 ...               ...        ...        ...   \n",
      "170     4085861 2018-09-18 20:23:00                 1      53500      52000   \n",
      "171     4085861 2018-09-18 20:43:00                 1      53500      52000   \n",
      "172     4085861 2018-09-18 20:54:00                 1      53500      52000   \n",
      "173     3954203 2018-09-18 21:26:00                 1      60500      57500   \n",
      "174     3998909 2018-09-18 22:11:00                 1      15500      16500   \n",
      "\n",
      "             updated_at  \n",
      "0   2018-09-10 16:32:00  \n",
      "1   2018-09-11 08:51:00  \n",
      "2   2018-09-11 08:51:00  \n",
      "3   2018-09-11 08:51:00  \n",
      "4   2018-09-11 08:51:00  \n",
      "..                  ...  \n",
      "170 2018-09-17 22:59:00  \n",
      "171 2018-09-17 22:59:00  \n",
      "172 2018-09-17 22:59:00  \n",
      "173 2018-09-17 22:59:00  \n",
      "174 2018-09-16 05:09:00  \n",
      "\n",
      "[175 rows x 6 columns]\n"
     ]
    }
   ],
   "source": [
    "# merge 2 data frames - sales and prices by product id and nearest direction \n",
    "merge_sales_prices = pd.merge_asof(sales, prices, left_on='ordered_at', right_on='updated_at', by='product_id', direction='nearest')\n",
    "print (merge_sales_prices)"
   ]
  },
  {
   "cell_type": "code",
   "execution_count": 15,
   "id": "f336e62d",
   "metadata": {},
   "outputs": [],
   "source": [
    "# find the actual sales price of the product by compare ordered_at time and updated_at. if order is made before the updated date -> take old price, after -> new price\n",
    "merge_sales_prices['final_price'] = np.where(merge_sales_prices['ordered_at'] >=merge_sales_prices['updated_at'],\n",
    "                                        merge_sales_prices['new_price'], merge_sales_prices['old_price'])\n"
   ]
  },
  {
   "cell_type": "code",
   "execution_count": 16,
   "id": "56861a50",
   "metadata": {},
   "outputs": [
    {
     "name": "stdout",
     "output_type": "stream",
     "text": [
      "     product_id          ordered_at  quantity_ordered  old_price  new_price  \\\n",
      "0       3954203 2018-09-11 01:43:00                 1      68800      60000   \n",
      "1       4085861 2018-09-11 06:26:00                 1      60000      53500   \n",
      "2       4085861 2018-09-11 06:53:00                 1      60000      53500   \n",
      "3       4085861 2018-09-11 08:24:00                 1      60000      53500   \n",
      "4       4085861 2018-09-11 09:30:00                 1      60000      53500   \n",
      "..          ...                 ...               ...        ...        ...   \n",
      "170     4085861 2018-09-18 20:23:00                 1      53500      52000   \n",
      "171     4085861 2018-09-18 20:43:00                 1      53500      52000   \n",
      "172     4085861 2018-09-18 20:54:00                 1      53500      52000   \n",
      "173     3954203 2018-09-18 21:26:00                 1      60500      57500   \n",
      "174     3998909 2018-09-18 22:11:00                 1      15500      16500   \n",
      "\n",
      "             updated_at  final_price  revenue  \n",
      "0   2018-09-10 16:32:00        60000    60000  \n",
      "1   2018-09-11 08:51:00        60000    60000  \n",
      "2   2018-09-11 08:51:00        60000    60000  \n",
      "3   2018-09-11 08:51:00        60000    60000  \n",
      "4   2018-09-11 08:51:00        53500    53500  \n",
      "..                  ...          ...      ...  \n",
      "170 2018-09-17 22:59:00        52000    52000  \n",
      "171 2018-09-17 22:59:00        52000    52000  \n",
      "172 2018-09-17 22:59:00        52000    52000  \n",
      "173 2018-09-17 22:59:00        57500    57500  \n",
      "174 2018-09-16 05:09:00        16500    16500  \n",
      "\n",
      "[175 rows x 8 columns]\n"
     ]
    }
   ],
   "source": [
    "#calculate the revenue\n",
    "merge_sales_prices['revenue'] = merge_sales_prices['quantity_ordered'] * merge_sales_prices['final_price']\n",
    "print (merge_sales_prices)"
   ]
  },
  {
   "cell_type": "code",
   "execution_count": 18,
   "id": "b9139ad5",
   "metadata": {},
   "outputs": [],
   "source": [
    "# calculate total revenue by product and price\n",
    "total_revenue = merge_sales_prices.groupby(['product_id'])['revenue'].sum()\n"
   ]
  },
  {
   "cell_type": "code",
   "execution_count": 24,
   "id": "2fd1e465",
   "metadata": {},
   "outputs": [
    {
     "name": "stdout",
     "output_type": "stream",
     "text": [
      "0       877500\n",
      "1      8247500\n",
      "2      8247500\n",
      "3      8247500\n",
      "4      8247500\n",
      "        ...   \n",
      "170    8247500\n",
      "171    8247500\n",
      "172    8247500\n",
      "173     877500\n",
      "174     280500\n",
      "Name: revenue, Length: 175, dtype: int64\n"
     ]
    }
   ],
   "source": [
    "print (total_revenue)"
   ]
  },
  {
   "cell_type": "code",
   "execution_count": null,
   "id": "bfe12a84",
   "metadata": {},
   "outputs": [],
   "source": []
  }
 ],
 "metadata": {
  "kernelspec": {
   "display_name": "Python 3 (ipykernel)",
   "language": "python",
   "name": "python3"
  },
  "language_info": {
   "codemirror_mode": {
    "name": "ipython",
    "version": 3
   },
   "file_extension": ".py",
   "mimetype": "text/x-python",
   "name": "python",
   "nbconvert_exporter": "python",
   "pygments_lexer": "ipython3",
   "version": "3.9.12"
  }
 },
 "nbformat": 4,
 "nbformat_minor": 5
}
